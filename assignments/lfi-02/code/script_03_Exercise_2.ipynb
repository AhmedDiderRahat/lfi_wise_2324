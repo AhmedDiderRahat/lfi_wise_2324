{
 "cells": [
  {
   "cell_type": "code",
   "execution_count": 1,
   "id": "5c84fa29",
   "metadata": {},
   "outputs": [],
   "source": [
    "import numpy as np\n",
    "import cv2\n",
    "import math\n",
    "import matplotlib\n",
    "matplotlib.use('TkAgg')\n",
    "import matplotlib.pyplot as plt"
   ]
  },
  {
   "cell_type": "code",
   "execution_count": 2,
   "id": "30ca53d3",
   "metadata": {},
   "outputs": [],
   "source": [
    "def plot_histogram(hist, bins):\n",
    "    width = 0.7 * (bins[1] - bins[0])\n",
    "    center = (bins[:-1] + bins[1:]) / 2\n",
    "    plt.bar(center, hist, align='center', width=width)\n",
    "    plt.show()"
   ]
  },
  {
   "cell_type": "code",
   "execution_count": 5,
   "id": "56f312a6",
   "metadata": {},
   "outputs": [
    {
     "name": "stdout",
     "output_type": "stream",
     "text": [
      "(15.0, 15.0) 11.0\n"
     ]
    }
   ],
   "source": [
    "def compute_simple_hog(imgcolor, keypoints):\n",
    "\n",
    "    # convert color to gray image and extract feature in gray\n",
    "    imggray = cv2.cvtColor(imgcolor, cv2.COLOR_BGR2GRAY)\n",
    "\n",
    "    # compute x and y gradients (sobel kernel size 5)\n",
    "    sobelx = cv2.Sobel(imggray, cv2.CV_64F, 1, 0, ksize=5)\n",
    "    sobely = cv2.Sobel(imggray, cv2.CV_64F, 0, 1, ksize=5)\n",
    "\n",
    "    # compute magnitude and angle of the gradients\n",
    "    magnitude, angle = cv2.cartToPolar(sobelx, sobely)\n",
    "    \n",
    "\n",
    "    # go through all keypoints and and compute feature vector\n",
    "    descr = np.zeros((len(keypoints), 8), np.float32)\n",
    "    count = 0\n",
    "    \n",
    "    for kp in keypoints:\n",
    "        print (kp.pt, kp.size)\n",
    "        # extract angle in keypoint sub window\n",
    "        \n",
    "        x, y = int(kp.pt[0]), int(kp.pt[1])\n",
    "        size = int(kp.size)\n",
    "        \n",
    "        # Calculate the starting and ending indices for the subwindow\n",
    "        start_y = y - size // 2\n",
    "        end_y = y + size // 2\n",
    "        start_x = x - size // 2\n",
    "        end_x = x + size // 2\n",
    "\n",
    "        angle_subwindow = angle[start_y:end_y, start_x:end_x]\n",
    "        magnitude_subwindow = magnitude[start_y:end_y, start_x:end_x]\n",
    "\n",
    "        # extract gradient magnitude in keypoint subwindow\n",
    "        hist, bins = np.histogram(angle_subwindow[magnitude_subwindow > 0], bins=8, range=(0, 2 * np.pi))\n",
    "\n",
    "        # create histogram of angle in subwindow BUT only where magnitude of gradients is non zero! Why? Find an\n",
    "        # answer to that question use np.histogram\n",
    "        #(hist, bins) = np.histogram(...)\n",
    "\n",
    "        plot_histogram(hist, bins)\n",
    "\n",
    "        descr[count] = hist\n",
    "        \n",
    "        count += 1\n",
    "\n",
    "    return descr\n",
    "\n",
    "\n",
    "keypoints = [cv2.KeyPoint(15, 15, 11)]\n",
    "\n",
    "# test for all test images\n",
    "test = cv2.imread('../resources/images/hog_test/diag.jpg')\n",
    "descriptor = compute_simple_hog(test, keypoints)"
   ]
  },
  {
   "cell_type": "code",
   "execution_count": null,
   "id": "5616f0f0",
   "metadata": {},
   "outputs": [],
   "source": []
  }
 ],
 "metadata": {
  "kernelspec": {
   "display_name": "Python 3 (ipykernel)",
   "language": "python",
   "name": "python3"
  },
  "language_info": {
   "codemirror_mode": {
    "name": "ipython",
    "version": 3
   },
   "file_extension": ".py",
   "mimetype": "text/x-python",
   "name": "python",
   "nbconvert_exporter": "python",
   "pygments_lexer": "ipython3",
   "version": "3.10.6"
  }
 },
 "nbformat": 4,
 "nbformat_minor": 5
}
