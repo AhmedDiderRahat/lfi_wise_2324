{
 "cells": [
  {
   "cell_type": "code",
   "execution_count": 1,
   "id": "3fdd0c18",
   "metadata": {},
   "outputs": [],
   "source": [
    "# import all packages\n",
    "import cv2\n",
    "import torch\n",
    "import sklearn\n",
    "import matplotlib as plt\n",
    "import numpy as np"
   ]
  },
  {
   "cell_type": "code",
   "execution_count": 2,
   "id": "5401d9e1",
   "metadata": {},
   "outputs": [],
   "source": [
    "cap = cv2.VideoCapture(0)"
   ]
  },
  {
   "cell_type": "code",
   "execution_count": 3,
   "id": "e91fe2ac",
   "metadata": {},
   "outputs": [],
   "source": [
    "orb = cv2.SIFT_create()\n",
    "blur_flag = False"
   ]
  },
  {
   "cell_type": "code",
   "execution_count": null,
   "id": "dd0fd628",
   "metadata": {},
   "outputs": [],
   "source": [
    "while(True):\n",
    "    \n",
    "    # capture frame-by-frame\n",
    "    \n",
    "    ret, frame = cap.read()\n",
    "    \n",
    "    gray = cv2.cvtColor(frame, cv2.COLOR_BGR2BGRA)\n",
    "    \n",
    "    if cv2.waitKey(100) & 0xFF == ord('q'):\n",
    "        break\n",
    "    \n",
    "    if cv2.waitKey(100) == ord('b'):\n",
    "        print('BLUR')\n",
    "        blur_flag = not blur_flag\n",
    "    \n",
    "    if blur_flag:\n",
    "        kernel = np.ones((7, 7), np.float32) / 49\n",
    "        gray = cv2.filter2D(gray, -1, kernel)\n",
    "    \n",
    "    # display the image\n",
    "    cv2.imshow('frame', gray)\n",
    "\n",
    "cap.release()\n",
    "cv2.destroyAllWindows()"
   ]
  },
  {
   "cell_type": "code",
   "execution_count": null,
   "id": "c1da72d0",
   "metadata": {},
   "outputs": [],
   "source": []
  }
 ],
 "metadata": {
  "kernelspec": {
   "display_name": "Python 3 (ipykernel)",
   "language": "python",
   "name": "python3"
  },
  "language_info": {
   "codemirror_mode": {
    "name": "ipython",
    "version": 3
   },
   "file_extension": ".py",
   "mimetype": "text/x-python",
   "name": "python",
   "nbconvert_exporter": "python",
   "pygments_lexer": "ipython3",
   "version": "3.10.6"
  }
 },
 "nbformat": 4,
 "nbformat_minor": 5
}
