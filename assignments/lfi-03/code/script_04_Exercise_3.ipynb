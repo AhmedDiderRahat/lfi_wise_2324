{
 "cells": [
  {
   "cell_type": "code",
   "execution_count": 1,
   "id": "9f7f2dcb",
   "metadata": {},
   "outputs": [],
   "source": [
    "import time\n",
    "\n",
    "import matplotlib.pyplot as plt\n",
    "import numpy as np\n",
    "import torch\n",
    "import torch.nn as nn\n",
    "import torch.nn.functional as F\n",
    "import torch.optim as optim\n",
    "from torch.utils.data import DataLoader\n",
    "from torchvision import datasets, transforms"
   ]
  },
  {
   "cell_type": "code",
   "execution_count": 21,
   "id": "12ff8a75",
   "metadata": {},
   "outputs": [],
   "source": [
    "CATEGORIES = {\n",
    "    0: 'T-shirt/top',\n",
    "    1: 'Trouser',\n",
    "    2: 'Pullover',\n",
    "    3: 'Dress',\n",
    "    4: 'Coat',\n",
    "    5: 'Sandal',\n",
    "    6: 'Shirt',\n",
    "    7: 'Sneaker',\n",
    "    8: 'Bag',\n",
    "    9: 'Ankle boot'\n",
    "}"
   ]
  },
  {
   "cell_type": "code",
   "execution_count": 22,
   "id": "e454c392",
   "metadata": {},
   "outputs": [],
   "source": [
    "# implement your own NNs\n",
    "class MyNeuralNetwork(nn.Module):\n",
    "    def __init__(self):\n",
    "        super(MyNeuralNetwork, self).__init__()\n",
    "        \n",
    "        self.conv1 = nn.Conv2d(in_channels=1, out_channels=32, kernel_size=3, padding = 'same')\n",
    "        self.conv2 = nn.Conv2d(in_channels=32, out_channels=32, kernel_size=3, padding = 'same')\n",
    "        \n",
    "        self.conv3 = nn.Conv2d(in_channels=32, out_channels=64, kernel_size=3, padding = 'same')\n",
    "        self.conv4 = nn.Conv2d(in_channels=64, out_channels=64, kernel_size=3, padding = 'same')\n",
    "        \n",
    "        \n",
    "        self.dropout = nn.Dropout(p=0.25)\n",
    "        \n",
    "        self.fc1 = nn.Linear(3136, 512)\n",
    "        \n",
    "        self.fc2 = nn.Linear(512, 10)\n",
    "        \n",
    "        self.softmax = nn.LogSoftmax(dim=1)\n",
    "\n",
    "    def forward(self, x):\n",
    "        # TODO: YOUR CODE HERE\n",
    "        x = F.relu(self.conv1(x))\n",
    "        x = F.relu(self.conv2(x))\n",
    "        x = self.dropout(F.max_pool2d(x, 2))\n",
    "        \n",
    "        x = F.relu(self.conv3(x))\n",
    "        x = F.relu(self.conv4(x))\n",
    "        x = self.dropout(F.max_pool2d(x, 2))\n",
    "        \n",
    "        x = torch.flatten(x, 1)\n",
    "        \n",
    "        x = F.relu(self.fc1(x))\n",
    "        x = self.softmax(self.fc2(x))\n",
    "        return x\n",
    "\n",
    "    def name(self):\n",
    "        return \"MyNeuralNetwork\""
   ]
  },
  {
   "cell_type": "code",
   "execution_count": 23,
   "id": "289c2036",
   "metadata": {},
   "outputs": [],
   "source": [
    "def training(model, data_loader, optimizer, criterion, device):\n",
    "    model.train()\n",
    "\n",
    "    running_loss = 0.0\n",
    "    running_corrects = 0\n",
    "\n",
    "    for batch_idx, (inputs, labels) in enumerate(data_loader):\n",
    "\n",
    "        # zero the parameter gradients\n",
    "        optimizer.zero_grad()\n",
    "\n",
    "        inputs = inputs.to(device)\n",
    "        labels = labels.to(device)\n",
    "\n",
    "        # forward\n",
    "        outputs = model(inputs)\n",
    "        loss = criterion(outputs, labels)\n",
    "\n",
    "        _, preds = torch.max(outputs, 1)\n",
    "\n",
    "        # backward\n",
    "        loss.backward()\n",
    "        optimizer.step()\n",
    "\n",
    "        # statistics\n",
    "        running_loss += loss.item() * inputs.size(0)\n",
    "        running_corrects += torch.sum(preds == labels.data)\n",
    "\n",
    "        if batch_idx % 50 == 0:\n",
    "            print(f'Training Batch: {batch_idx:4} of {len(data_loader)}')\n",
    "\n",
    "    epoch_loss = running_loss / len(data_loader.dataset)\n",
    "    epoch_acc = running_corrects.double() / len(data_loader.dataset)\n",
    "\n",
    "    print('-' * 10)\n",
    "    print(f'Training Loss: {epoch_loss:.4f} Acc: {epoch_acc:.4f}\\n')\n",
    "\n",
    "    return epoch_loss, epoch_acc"
   ]
  },
  {
   "cell_type": "code",
   "execution_count": 24,
   "id": "e8a6e0db",
   "metadata": {},
   "outputs": [],
   "source": [
    "def test(model, data_loader, criterion, device):\n",
    "    model.eval()\n",
    "\n",
    "    running_loss = 0.0\n",
    "    running_corrects = 0\n",
    "\n",
    "    # do not compute gradients\n",
    "    with torch.no_grad():\n",
    "\n",
    "        for batch_idx, (inputs, labels) in enumerate(data_loader):\n",
    "\n",
    "            inputs = inputs.to(device)\n",
    "            labels = labels.to(device)\n",
    "\n",
    "            # forward\n",
    "            outputs = model(inputs)\n",
    "            loss = criterion(outputs, labels)\n",
    "\n",
    "            _, preds = torch.max(outputs, 1)\n",
    "\n",
    "            # statistics\n",
    "            running_loss += loss.item() * inputs.size(0)\n",
    "            running_corrects += torch.sum(preds == labels.data)\n",
    "\n",
    "            if batch_idx % 100 == 0:\n",
    "                print(f'Test Batch: {batch_idx:4} of {len(data_loader)}')\n",
    "\n",
    "        epoch_loss = running_loss / len(data_loader.dataset)\n",
    "        epoch_acc = running_corrects.double() / len(data_loader.dataset)\n",
    "\n",
    "    print('-' * 10)\n",
    "    print(f'Test Loss: {epoch_loss:.4f} Acc: {epoch_acc:.4f}\\n')\n",
    "\n",
    "    return epoch_loss, epoch_acc"
   ]
  },
  {
   "cell_type": "code",
   "execution_count": 41,
   "id": "d198aa25",
   "metadata": {},
   "outputs": [],
   "source": [
    "def plot(train_history, test_history, metric, num_epochs):\n",
    "\n",
    "    plt.title(f\"Validation/Test {metric} vs. Number of Training Epochs\")\n",
    "    plt.xlabel(f\"Training Epochs\")\n",
    "    plt.ylabel(f\"Validation/Test {metric}\")\n",
    "    plt.plot(range(1, num_epochs + 1), train_history, label=\"Train\")\n",
    "    plt.plot(range(1, num_epochs + 1), test_history, label=\"Test\")\n",
    "    plt.ylim((0, 1.))\n",
    "    plt.xticks(np.arange(1, num_epochs + 1, 1.0))\n",
    "    plt.legend()\n",
    "    plt.savefig(f\"../output/{metric}.png\")\n",
    "    plt.show()"
   ]
  },
  {
   "cell_type": "code",
   "execution_count": 28,
   "id": "12c8a614",
   "metadata": {},
   "outputs": [
    {
     "name": "stdout",
     "output_type": "stream",
     "text": [
      "True\n"
     ]
    }
   ],
   "source": [
    "print(torch.cuda.is_available())"
   ]
  },
  {
   "cell_type": "code",
   "execution_count": 30,
   "id": "3fb2a516",
   "metadata": {},
   "outputs": [
    {
     "name": "stdout",
     "output_type": "stream",
     "text": [
      "cuda:0\n"
     ]
    }
   ],
   "source": [
    "device = torch.device(\"cuda:0\" if torch.cuda.is_available() else \"cpu\")\n",
    "print(device)"
   ]
  },
  {
   "cell_type": "code",
   "execution_count": 31,
   "id": "85af0ae5",
   "metadata": {},
   "outputs": [
    {
     "data": {
      "text/plain": [
       "<torch._C.Generator at 0x19105351bb0>"
      ]
     },
     "execution_count": 31,
     "metadata": {},
     "output_type": "execute_result"
    }
   ],
   "source": [
    "# set seed for reproducability\n",
    "torch.manual_seed(0)"
   ]
  },
  {
   "cell_type": "code",
   "execution_count": 32,
   "id": "c558ef3f",
   "metadata": {},
   "outputs": [],
   "source": [
    "# Set hyperparameters\n",
    "batch_size = 512\n",
    "num_epochs = 10\n",
    "learning_rate = 0.001\n",
    "momentum = 0.9"
   ]
  },
  {
   "cell_type": "code",
   "execution_count": 33,
   "id": "13b02280",
   "metadata": {},
   "outputs": [],
   "source": [
    "# Create data loaders\n",
    "transform = transforms.Compose([\n",
    "    # you can add other transformations in this list\n",
    "    transforms.ToTensor()\n",
    "])"
   ]
  },
  {
   "cell_type": "code",
   "execution_count": 34,
   "id": "2016464b",
   "metadata": {},
   "outputs": [],
   "source": [
    "# load train and test data\n",
    "root = './data'\n",
    "train_set = datasets.FashionMNIST(root=root,\n",
    "                                  train=True,\n",
    "                                  transform=transform,\n",
    "                                  download=True)\n",
    "test_set = datasets.FashionMNIST(root=root,\n",
    "                                 train=False,\n",
    "                                 transform=transform,\n",
    "                                 download=True)"
   ]
  },
  {
   "cell_type": "code",
   "execution_count": 35,
   "id": "3f10fe34",
   "metadata": {},
   "outputs": [],
   "source": [
    "loader_params = {\n",
    "    'batch_size': batch_size,\n",
    "    'num_workers': 8  # increase this value to use multiprocess data loading\n",
    "}"
   ]
  },
  {
   "cell_type": "code",
   "execution_count": 36,
   "id": "d6c62fa6",
   "metadata": {},
   "outputs": [],
   "source": [
    "train_loader = DataLoader(dataset=train_set, shuffle=True, **loader_params)\n",
    "test_loader = DataLoader(dataset=test_set, shuffle=False, **loader_params)"
   ]
  },
  {
   "cell_type": "code",
   "execution_count": 38,
   "id": "a49b9b53",
   "metadata": {},
   "outputs": [],
   "source": [
    "## model setup\n",
    "model = MyNeuralNetwork().to(device)\n",
    "optimizer = optim.SGD(model.parameters(), lr=learning_rate, momentum=momentum)\n",
    "criterion = nn.CrossEntropyLoss()\n",
    "\n",
    "train_acc_history = []\n",
    "test_acc_history = []\n",
    "\n",
    "train_loss_history = []\n",
    "test_loss_history = []"
   ]
  },
  {
   "cell_type": "code",
   "execution_count": 39,
   "id": "78fd6302",
   "metadata": {},
   "outputs": [
    {
     "name": "stdout",
     "output_type": "stream",
     "text": [
      "Epoch 0/9\n",
      "----------\n",
      "Training Batch:    0 of 118\n",
      "Training Batch:   50 of 118\n",
      "Training Batch:  100 of 118\n",
      "----------\n",
      "Training Loss: 2.3026 Acc: 0.1056\n",
      "\n",
      "Test Batch:    0 of 20\n",
      "----------\n",
      "Test Loss: 2.3018 Acc: 0.1029\n",
      "\n",
      "Epoch 1/9\n",
      "----------\n",
      "Training Batch:    0 of 118\n",
      "Training Batch:   50 of 118\n",
      "Training Batch:  100 of 118\n",
      "----------\n",
      "Training Loss: 2.3011 Acc: 0.1383\n",
      "\n",
      "Test Batch:    0 of 20\n",
      "----------\n",
      "Test Loss: 2.2998 Acc: 0.1816\n",
      "\n",
      "Epoch 2/9\n",
      "----------\n",
      "Training Batch:    0 of 118\n",
      "Training Batch:   50 of 118\n",
      "Training Batch:  100 of 118\n",
      "----------\n",
      "Training Loss: 2.2981 Acc: 0.1757\n",
      "\n",
      "Test Batch:    0 of 20\n",
      "----------\n",
      "Test Loss: 2.2952 Acc: 0.2128\n",
      "\n",
      "Epoch 3/9\n",
      "----------\n",
      "Training Batch:    0 of 118\n",
      "Training Batch:   50 of 118\n",
      "Training Batch:  100 of 118\n",
      "----------\n",
      "Training Loss: 2.2893 Acc: 0.1909\n",
      "\n",
      "Test Batch:    0 of 20\n",
      "----------\n",
      "Test Loss: 2.2777 Acc: 0.2021\n",
      "\n",
      "Epoch 4/9\n",
      "----------\n",
      "Training Batch:    0 of 118\n",
      "Training Batch:   50 of 118\n",
      "Training Batch:  100 of 118\n",
      "----------\n",
      "Training Loss: 2.2118 Acc: 0.2261\n",
      "\n",
      "Test Batch:    0 of 20\n",
      "----------\n",
      "Test Loss: 1.9781 Acc: 0.3461\n",
      "\n",
      "Epoch 5/9\n",
      "----------\n",
      "Training Batch:    0 of 118\n",
      "Training Batch:   50 of 118\n",
      "Training Batch:  100 of 118\n",
      "----------\n",
      "Training Loss: 1.1950 Acc: 0.5897\n",
      "\n",
      "Test Batch:    0 of 20\n",
      "----------\n",
      "Test Loss: 0.8564 Acc: 0.6725\n",
      "\n",
      "Epoch 6/9\n",
      "----------\n",
      "Training Batch:    0 of 118\n",
      "Training Batch:   50 of 118\n",
      "Training Batch:  100 of 118\n",
      "----------\n",
      "Training Loss: 0.8528 Acc: 0.6744\n",
      "\n",
      "Test Batch:    0 of 20\n",
      "----------\n",
      "Test Loss: 0.8135 Acc: 0.6746\n",
      "\n",
      "Epoch 7/9\n",
      "----------\n",
      "Training Batch:    0 of 118\n",
      "Training Batch:   50 of 118\n",
      "Training Batch:  100 of 118\n",
      "----------\n",
      "Training Loss: 0.8016 Acc: 0.6983\n",
      "\n",
      "Test Batch:    0 of 20\n",
      "----------\n",
      "Test Loss: 0.7771 Acc: 0.6996\n",
      "\n",
      "Epoch 8/9\n",
      "----------\n",
      "Training Batch:    0 of 118\n",
      "Training Batch:   50 of 118\n",
      "Training Batch:  100 of 118\n",
      "----------\n",
      "Training Loss: 0.7679 Acc: 0.7137\n",
      "\n",
      "Test Batch:    0 of 20\n",
      "----------\n",
      "Test Loss: 0.7328 Acc: 0.7173\n",
      "\n",
      "Epoch 9/9\n",
      "----------\n",
      "Training Batch:    0 of 118\n",
      "Training Batch:   50 of 118\n",
      "Training Batch:  100 of 118\n",
      "----------\n",
      "Training Loss: 0.7424 Acc: 0.7241\n",
      "\n",
      "Test Batch:    0 of 20\n",
      "----------\n",
      "Test Loss: 0.7280 Acc: 0.7151\n",
      "\n",
      "Training complete in 8m 21s\n",
      "Best val Acc: 0.717300\n"
     ]
    }
   ],
   "source": [
    "best_acc = 0.0\n",
    "since = time.time()\n",
    "\n",
    "for epoch in range(num_epochs):\n",
    "\n",
    "    print('Epoch {}/{}'.format(epoch, num_epochs - 1))\n",
    "    print('-' * 10)\n",
    "\n",
    "    # train\n",
    "    training_loss, training_acc = training(model, train_loader, optimizer,\n",
    "                                           criterion, device)\n",
    "    train_loss_history.append(training_loss)\n",
    "    train_acc_history.append(training_acc)\n",
    "\n",
    "    # test\n",
    "    test_loss, test_acc = test(model, test_loader, criterion, device)\n",
    "    test_loss_history.append(test_loss)\n",
    "    test_acc_history.append(test_acc)\n",
    "\n",
    "    # overall best model\n",
    "    if test_acc > best_acc:\n",
    "        best_acc = test_acc\n",
    "        #  best_model_wts = copy.deepcopy(model.state_dict())\n",
    "\n",
    "time_elapsed = time.time() - since\n",
    "print(\n",
    "    f'Training complete in {(time_elapsed // 60):.0f}m {(time_elapsed % 60):.0f}s'\n",
    ")\n",
    "print(f'Best val Acc: {best_acc:4f}')"
   ]
  },
  {
   "cell_type": "code",
   "execution_count": 50,
   "id": "2886d352-f94a-407f-99e2-98b867649c8d",
   "metadata": {
    "scrolled": true
   },
   "outputs": [
    {
     "data": {
      "image/png": "[encoded data removed]",
      "text/plain": [
       "<Figure size 640x480 with 1 Axes>"
      ]
     },
     "metadata": {},
     "output_type": "display_data"
    }
   ],
   "source": [
    "# plot loss and accuracy curves\n",
    "plot(train_acc_history, test_acc_history, 'accuracy', num_epochs)"
   ]
  },
  {
   "cell_type": "code",
   "execution_count": 51,
   "id": "5cfad1fa-4618-40c4-b37a-1bd78c69534f",
   "metadata": {},
   "outputs": [
    {
     "data": {
      "image/png": "[encoded data removed]",
      "text/plain": [
       "<Figure size 640x480 with 1 Axes>"
      ]
     },
     "metadata": {},
     "output_type": "display_data"
    }
   ],
   "source": [
    "plot(train_loss_history, test_loss_history, 'loss', num_epochs)"
   ]
  },
  {
   "cell_type": "code",
   "execution_count": 52,
   "id": "6eb3ee5b-9680-46c8-9bd3-74b4e3955b83",
   "metadata": {},
   "outputs": [
    {
     "data": {
      "text/plain": [
       "torch.Tensor"
      ]
     },
     "execution_count": 52,
     "metadata": {},
     "output_type": "execute_result"
    }
   ],
   "source": [
    "# plot examples\n",
    "example_data, _ = next(iter(test_loader))\n",
    "\n",
    "type(example_data)"
   ]
  },
  {
   "cell_type": "code",
   "execution_count": 58,
   "id": "e4c17e9e-1efe-43bd-94e9-47d5020309f4",
   "metadata": {},
   "outputs": [
    {
     "name": "stderr",
     "output_type": "stream",
     "text": [
      "C:\\Users\\DELL\\AppData\\Local\\Temp\\ipykernel_11084\\105879666.py:13: UserWarning: The figure layout has changed to tight\n",
      "  plt.tight_layout()\n",
      "C:\\Users\\DELL\\AppData\\Local\\Temp\\ipykernel_11084\\105879666.py:20: UserWarning: The figure layout has changed to tight\n",
      "  plt.tight_layout()\n"
     ]
    },
    {
     "data": {
      "image/png": "[encoded data removed]",
      "text/plain": [
       "<Figure size 640x480 with 6 Axes>"
      ]
     },
     "metadata": {},
     "output_type": "display_data"
    }
   ],
   "source": [
    "# plot examples\n",
    "with torch.no_grad():\n",
    "    # Move the model to the CPU\n",
    "    model = model.to('cpu')\n",
    "    \n",
    "    # Move the input data to the CPU\n",
    "    example_data = example_data.to('cpu')\n",
    "\n",
    "    output = model(example_data)\n",
    "\n",
    "    for i in range(6):\n",
    "        plt.subplot(2, 3, i + 1)\n",
    "        plt.tight_layout()\n",
    "        plt.imshow(example_data[i][0], cmap='gray', interpolation='none')\n",
    "        plt.title(\"Pred: {}\".format(CATEGORIES[output.data.max(\n",
    "            1, keepdim=True)[1][i].item()]))\n",
    "        plt.xticks([])\n",
    "        plt.yticks([])\n",
    "\n",
    "    plt.tight_layout()\n",
    "    plt.savefig(\"../output/examples.png\")\n",
    "    \n",
    "    plt.show()"
   ]
  }
 ],
 "metadata": {
  "kernelspec": {
   "display_name": "Python 3 (ipykernel)",
   "language": "python",
   "name": "python3"
  },
  "language_info": {
   "codemirror_mode": {
    "name": "ipython",
    "version": 3
   },
   "file_extension": ".py",
   "mimetype": "text/x-python",
   "name": "python",
   "nbconvert_exporter": "python",
   "pygments_lexer": "ipython3",
   "version": "3.10.6"
  }
 },
 "nbformat": 4,
 "nbformat_minor": 5
}
