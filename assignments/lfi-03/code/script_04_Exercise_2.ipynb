{
 "cells": [
  {
   "cell_type": "code",
   "execution_count": 1,
   "id": "153a02c8",
   "metadata": {},
   "outputs": [],
   "source": [
    "# libraries\n",
    "import numpy as np\n",
    "import cv2\n",
    "import glob\n",
    "import matplotlib.pyplot as plt"
   ]
  },
  {
   "cell_type": "code",
   "execution_count": 18,
   "id": "6af11fce",
   "metadata": {},
   "outputs": [],
   "source": [
    "# set a fixed seed for reproducability\n",
    "np.random.seed(0)\n",
    "\n",
    "nn_img_size = 32\n",
    "num_classes = 3\n",
    "learning_rate = 0.0001\n",
    "num_epochs = 500\n",
    "batch_size = 4\n",
    "\n",
    "loss_mode = 'crossentropy'\n",
    "\n",
    "loss_train_hist = []"
   ]
  },
  {
   "cell_type": "code",
   "execution_count": 3,
   "id": "20813bd0",
   "metadata": {},
   "outputs": [],
   "source": [
    "def relu(x):\n",
    "    \"\"\"ReLU activation function\"\"\"\n",
    "    return np.maximum(x, 0)"
   ]
  },
  {
   "cell_type": "code",
   "execution_count": 4,
   "id": "dbea7a20",
   "metadata": {},
   "outputs": [],
   "source": [
    "def relu_derivative(output):\n",
    "    \"\"\"derivative of the ReLU activation function\"\"\"\n",
    "    output[output <= 0] = 0\n",
    "    output[output > 0] = 1\n",
    "    return output"
   ]
  },
  {
   "cell_type": "code",
   "execution_count": 5,
   "id": "85df4d8c",
   "metadata": {},
   "outputs": [],
   "source": [
    "def softmax(z):\n",
    "    \"\"\"softmax function to transform values to probabilities\"\"\"\n",
    "    z -= z.max()\n",
    "    z = np.exp(z)\n",
    "    sum_z = z.sum(1, keepdims=True)\n",
    "    return z / sum_z"
   ]
  },
  {
   "cell_type": "code",
   "execution_count": 6,
   "id": "e4e244e8",
   "metadata": {},
   "outputs": [],
   "source": [
    "def loss_mse(activation, y_batch):\n",
    "    \"\"\"mean squared loss function\"\"\"\n",
    "    # use MSE error as loss function\n",
    "    # Hint: the computed error needs to get normalized over the number of samples\n",
    "    loss = ((activation - y_batch)**2).sum()\n",
    "    mse = 1.0 / activation.shape[0] * loss\n",
    "    return mse"
   ]
  },
  {
   "cell_type": "code",
   "execution_count": 7,
   "id": "e7b39b6f",
   "metadata": {},
   "outputs": [],
   "source": [
    "def loss_crossentropy(activation, y_batch):\n",
    "    \"\"\"cross entropy loss function\"\"\"\n",
    "    batch_size = y_batch.shape[0]\n",
    "    loss = (-y_batch * np.log(activation)).sum() / batch_size\n",
    "    return loss"
   ]
  },
  {
   "cell_type": "code",
   "execution_count": 8,
   "id": "7cab109c",
   "metadata": {},
   "outputs": [],
   "source": [
    "def loss_deriv_mse(activation, y_batch):\n",
    "    \"\"\"derivative of the mean squared loss function\"\"\"\n",
    "    dCda2 = (1 / activation.shape[0]) * (activation - y_batch)\n",
    "    return dCda2"
   ]
  },
  {
   "cell_type": "code",
   "execution_count": 9,
   "id": "15babb4d",
   "metadata": {},
   "outputs": [],
   "source": [
    "def loss_deriv_crossentropy(activation, y_batch):\n",
    "    \"\"\"derivative of the mean cross entropy loss function, that includes the derivate of the softmax\n",
    "       for further explanations see here: https://deepnotes.io/softmax-crossentropy\n",
    "    \"\"\"\n",
    "    batch_size = y_batch.shape[0]\n",
    "    dCda2 = activation\n",
    "    dCda2[range(batch_size), np.argmax(y_batch, axis=1)] -= 1\n",
    "    dCda2 /= batch_size\n",
    "    return dCda2"
   ]
  },
  {
   "cell_type": "code",
   "execution_count": 10,
   "id": "57c389de",
   "metadata": {},
   "outputs": [],
   "source": [
    "def setup_train():\n",
    "    \"\"\"train function\"\"\"\n",
    "    # load and resize train images in three categories\n",
    "    # cars = 0, flowers = 1, faces = 2 ( true_ids )\n",
    "    \n",
    "    basic_path = '../images/db/train/'\n",
    "    \n",
    "    train_images_cars = glob.glob(basic_path + 'cars/*.jpg')\n",
    "    train_images_flowers = glob.glob(basic_path + 'flowers/*.jpg')\n",
    "    train_images_faces = glob.glob(basic_path + 'faces/*.jpg')\n",
    "    \n",
    "    if not train_images_cars or not train_images_flowers or not train_images_faces:\n",
    "        raise ValueError(\n",
    "            'No image found! Please make sure the images are in the correct location.'\n",
    "        )\n",
    "\n",
    "    train_images = [train_images_cars, train_images_flowers, train_images_faces]\n",
    "    num_rows = len(train_images_cars) + len(train_images_flowers) + len(train_images_faces)\n",
    "    X_train = np.zeros((num_rows, nn_img_size * nn_img_size))\n",
    "    y_train = np.zeros((num_rows, num_classes))\n",
    "\n",
    "    counter = 0\n",
    "    for (label, fnames) in enumerate(train_images):\n",
    "        for fname in fnames:\n",
    "            #print(label, fname)\n",
    "            img = cv2.imread(fname, cv2.IMREAD_GRAYSCALE)\n",
    "            img = cv2.resize(img, (nn_img_size, nn_img_size), interpolation=cv2.INTER_AREA)\n",
    "\n",
    "            #print(label, fname, img.shape)\n",
    "\n",
    "            # fill matrices X_train - each row is an image vector\n",
    "            # y_train - one-hot encoded, put only a 1 where the label is correct for the row in X_train\n",
    "            y_train[counter, label] = 1\n",
    "            X_train[counter] = img.flatten().astype(np.float32)\n",
    "\n",
    "            counter += 1\n",
    "\n",
    "    # print(y_train)\n",
    "    return X_train, y_train"
   ]
  },
  {
   "cell_type": "code",
   "execution_count": 11,
   "id": "ed836c37",
   "metadata": {},
   "outputs": [],
   "source": [
    "def forward(X_batch, y_batch, W1, W2, b1, b2):\n",
    "    \"\"\"forward pass in the neural network \"\"\"\n",
    "    \n",
    "    z1 = np.dot(X_batch, W1) + b1\n",
    "    a1 = relu(z1)\n",
    "    z2 = np.dot(a1, W2) + b2\n",
    "    a2 = softmax(z2)\n",
    "    \n",
    "    loss = None\n",
    "    \n",
    "    if y_batch is not None:\n",
    "        if loss_mode == 'mse':\n",
    "            loss = loss_mse(a2, y_batch)\n",
    "        elif loss_mode == 'crossentropy':\n",
    "            loss = loss_crossentropy(a2, y_batch)\n",
    "        else:\n",
    "            raise ValueError(\"Invalid loss mode\")\n",
    "    \n",
    "    # the function should return the loss and both intermediate activations\n",
    "    return loss, a2, a1"
   ]
  },
  {
   "cell_type": "code",
   "execution_count": 12,
   "id": "30d6b233",
   "metadata": {},
   "outputs": [],
   "source": [
    "def backward(a2, a1, X_batch, y_batch, W2):\n",
    "    \n",
    "    \"\"\"backward pass in the neural network \"\"\"\n",
    "    \n",
    "    if loss_mode == 'mse':\n",
    "        dCda2 = loss_deriv_mse(a2, y_batch)\n",
    "    elif loss_mode == 'crossentropy':\n",
    "        dCda2 = loss_deriv_crossentropy(a2, y_batch)\n",
    "\n",
    "    dW2 = np.dot(a1.T, dCda2)\n",
    "    db2 = np.sum(dCda2, axis=0, keepdims=True)\n",
    "\n",
    "    dCda1 = np.dot(dCda2, W2.T) * relu_derivative(a1)\n",
    "    dW1 = np.dot(X_batch.T, dCda1)\n",
    "    db1 = np.sum(dCda1, axis=0, keepdims=True)\n",
    "    \n",
    "    return dW1, dW2, db1, db2"
   ]
  },
  {
   "cell_type": "code",
   "execution_count": 13,
   "id": "bb45ab69",
   "metadata": {},
   "outputs": [],
   "source": [
    "def train(X_train, y_train):\n",
    "    \"\"\" train procedure \"\"\"\n",
    "    # for simplicity of this execise you don't need to find useful hyperparameter\n",
    "    # I've done this for you already and every test image should work for the\n",
    "    # given very small trainings database and the following parameters.\n",
    "    h = 1500\n",
    "    std = 0.001\n",
    "    \n",
    "    # YOUR CODE HERE\n",
    "    W1 = std * np.random.randn(nn_img_size * nn_img_size, h)\n",
    "    W2 = std * np.random.randn(h, num_classes)\n",
    "    b1 = np.zeros((1, h))\n",
    "    b2 = np.zeros((1, num_classes))\n",
    "\n",
    "    # run for num_epochs\n",
    "    for i in range(num_epochs):\n",
    "\n",
    "        X_batch = None\n",
    "        y_batch = None\n",
    "\n",
    "        # use only a batch of batch_size of the training images in each run\n",
    "        # sample the batch images randomly from the training set\n",
    "        indices = np.random.choice(X_train.shape[0], batch_size, replace=False)\n",
    "        X_batch = X_train[indices]\n",
    "        y_batch = y_train[indices]\n",
    "\n",
    "        # forward pass for two-layer neural network using ReLU as activation function\n",
    "        loss, a2, a1 = forward(X_batch, y_batch, W1, W2, b1, b2)\n",
    "        \n",
    "        # add loss to loss_train_hist for plotting\n",
    "        loss_train_hist.append(loss)\n",
    "\n",
    "        if i % 50 == 0:\n",
    "            print(\"iteration %d: loss %f\" % (i, loss))\n",
    "\n",
    "        # backward pass\n",
    "        dW1, dW2, db1, db2 = backward(a2, a1, X_batch, y_batch, W2)\n",
    "\n",
    "\n",
    "        # print(\"dCdb2.shape:\", dCdb2.shape, dCdb1.shape)\n",
    "\n",
    "        # depending on the derivatives of W1, and W2 regaring the cost/loss\n",
    "        # we need to adapt the values in the negative direction of the\n",
    "        # gradient decreasing towards the minimum\n",
    "        # we weight the gradient by a learning rate\n",
    "        W1 -= learning_rate * dW1\n",
    "        W2 -= learning_rate * dW2\n",
    "        b1 -= learning_rate * db1\n",
    "        b2 -= learning_rate * db2\n",
    "        \n",
    "    return W1, W2, b1, b2"
   ]
  },
  {
   "cell_type": "code",
   "execution_count": 19,
   "id": "fe4dad6c",
   "metadata": {},
   "outputs": [
    {
     "name": "stdout",
     "output_type": "stream",
     "text": [
      "iteration 0: loss 1.071997\n",
      "iteration 50: loss 0.703088\n",
      "iteration 100: loss 0.401271\n",
      "iteration 150: loss 0.173725\n",
      "iteration 200: loss 0.076869\n",
      "iteration 250: loss 0.081392\n",
      "iteration 300: loss 0.025344\n",
      "iteration 350: loss 0.016566\n",
      "iteration 400: loss 0.041769\n",
      "iteration 450: loss 0.021662\n"
     ]
    }
   ],
   "source": [
    "# Model Training\n",
    "X_train, y_train = setup_train()\n",
    "W1, W2, b1, b2 = train(X_train, y_train)"
   ]
  },
  {
   "cell_type": "code",
   "execution_count": 20,
   "id": "4fccd733",
   "metadata": {},
   "outputs": [],
   "source": [
    "# predict the test images, load all test images and\n",
    "# run prediction by computing the forward pass\n",
    "test_images = []\n",
    "\n",
    "test_images.append((cv2.imread('../images/db/test/flower2.jpg', cv2.IMREAD_GRAYSCALE), 1))\n",
    "test_images.append((cv2.imread('../images/db/test/car.jpg', cv2.IMREAD_GRAYSCALE), 0))\n",
    "test_images.append((cv2.imread('../images/db/test/face.jpg', cv2.IMREAD_GRAYSCALE), 2))"
   ]
  },
  {
   "cell_type": "code",
   "execution_count": 21,
   "id": "699c62db",
   "metadata": {},
   "outputs": [
    {
     "name": "stdout",
     "output_type": "stream",
     "text": [
      "Test output - predicted class: 1, true class: 1\n",
      "Test output - predicted class: 0, true class: 0\n",
      "Test output - predicted class: 2, true class: 2\n",
      "------------------------------------\n",
      "Test model output Weights: [[ 1.76405235e-03  3.87685167e-04  9.05426123e-04 ... -2.52865016e-04\n",
      "  -1.04572742e-03 -2.67761992e-04]\n",
      " [ 1.32397677e-05 -1.25672467e-04  2.49828921e-04 ... -2.00943977e-04\n",
      "  -1.15746849e-03 -2.71657760e-04]\n",
      " [ 1.59327362e-03  5.75925222e-04 -1.67144652e-04 ... -1.05045399e-04\n",
      "   8.72292119e-04 -6.31591640e-04]\n",
      " ...\n",
      " [-2.46852567e-04  1.28360174e-03  1.53710448e-04 ...  1.27717403e-04\n",
      "  -3.38985963e-04  1.17307019e-03]\n",
      " [ 3.05861646e-04  5.53040742e-04  1.58039675e-04 ...  3.63067641e-04\n",
      "  -5.64008333e-04  8.34745831e-04]\n",
      " [-2.95807109e-04  4.77419086e-04  6.01930861e-04 ... -1.56378294e-03\n",
      "  -7.67964202e-04  1.23255346e-03]] [[ 5.42227839e-06  1.24950699e-03 -1.40828767e-04]\n",
      " [-2.90937539e-03  9.32153395e-04  1.64361559e-03]\n",
      " [-9.24136626e-04  2.10410844e-05  1.96099213e-03]\n",
      " ...\n",
      " [ 1.77910016e-04  5.87244469e-04  6.09368247e-04]\n",
      " [-6.43230093e-04  2.07185985e-03 -2.10218757e-03]\n",
      " [ 1.45050198e-03 -3.23658437e-03  2.32004213e-03]]\n",
      "Test model output bias: [[ 0.00000000e+00 -1.29360851e-07  3.43689201e-07 ... -3.99334232e-08\n",
      "  -4.22141684e-07  8.83930644e-07]] [[-2.77912289e-04 -5.02607913e-05  3.28173080e-04]]\n"
     ]
    }
   ],
   "source": [
    "for ti in test_images:\n",
    "    resized_ti = cv2.resize(ti[0], (nn_img_size, nn_img_size), interpolation=cv2.INTER_AREA)\n",
    "    \n",
    "    x_test = resized_ti.reshape(1, -1)\n",
    "    \n",
    "    # YOUR CODE HERE\n",
    "    _, a2_test, _ = forward(x_test, None, W1, W2, b1, b2)\n",
    "    \n",
    "    predicted_class = np.argmax(a2_test)\n",
    "    true_class = ti[1]\n",
    "    \n",
    "    print(f\"Test output - predicted class: {predicted_class}, true class: {true_class}\")\n",
    "    \n",
    "print(\"------------------------------------\")\n",
    "print(\"Test model output Weights:\", W1, W2)\n",
    "print(\"Test model output bias:\", b1, b2)"
   ]
  },
  {
   "cell_type": "code",
   "execution_count": 22,
   "id": "88340283",
   "metadata": {},
   "outputs": [
    {
     "data": {
      "image/png": "[encoded data removed]",
      "text/plain": [
       "<Figure size 640x480 with 1 Axes>"
      ]
     },
     "metadata": {},
     "output_type": "display_data"
    }
   ],
   "source": [
    "plt.title(\"Training Loss vs. Number of Training Epochs\")\n",
    "plt.xlabel(\"Training Epochs\")\n",
    "plt.ylabel(\"Training Loss\")\n",
    "plt.plot(range(1, num_epochs + 1), loss_train_hist, label=\"Train\")\n",
    "plt.ylim((0, 3.))\n",
    "plt.xticks(np.arange(0, num_epochs + 1, 50.0))\n",
    "plt.legend()\n",
    "plt.savefig(f\"../output/two_layer_nn_train_{loss_mode}.png\")\n",
    "\n",
    "plt.show()"
   ]
  },
  {
   "cell_type": "markdown",
   "id": "512abb0a",
   "metadata": {},
   "source": [
    "### The figures of the both function is in output folder"
   ]
  },
  {
   "cell_type": "code",
   "execution_count": null,
   "id": "3ecaa74d-41d2-4510-9d31-8b995fd2bca9",
   "metadata": {},
   "outputs": [],
   "source": []
  }
 ],
 "metadata": {
  "kernelspec": {
   "display_name": "Python 3 (ipykernel)",
   "language": "python",
   "name": "python3"
  },
  "language_info": {
   "codemirror_mode": {
    "name": "ipython",
    "version": 3
   },
   "file_extension": ".py",
   "mimetype": "text/x-python",
   "name": "python",
   "nbconvert_exporter": "python",
   "pygments_lexer": "ipython3",
   "version": "3.10.6"
  }
 },
 "nbformat": 4,
 "nbformat_minor": 5
}
